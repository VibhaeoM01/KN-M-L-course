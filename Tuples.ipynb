{
  "nbformat": 4,
  "nbformat_minor": 0,
  "metadata": {
    "colab": {
      "provenance": [],
      "authorship_tag": "ABX9TyPy2ymaIWg0riDkKqnYaK4F",
      "include_colab_link": true
    },
    "kernelspec": {
      "name": "python3",
      "display_name": "Python 3"
    },
    "language_info": {
      "name": "python"
    }
  },
  "cells": [
    {
      "cell_type": "markdown",
      "metadata": {
        "id": "view-in-github",
        "colab_type": "text"
      },
      "source": [
        "<a href=\"https://colab.research.google.com/github/VibhaeoM01/KN-M-L-course/blob/main/Tuples.ipynb\" target=\"_parent\"><img src=\"https://colab.research.google.com/assets/colab-badge.svg\" alt=\"Open In Colab\"/></a>"
      ]
    },
    {
      "cell_type": "code",
      "execution_count": null,
      "metadata": {
        "colab": {
          "base_uri": "https://localhost:8080/"
        },
        "id": "9QsklQDghvx7",
        "outputId": "805a51a8-b506-4857-c85c-0aaf4e57f353"
      },
      "outputs": [
        {
          "output_type": "stream",
          "name": "stdout",
          "text": [
            "<class 'tuple'>\n"
          ]
        }
      ],
      "source": [
        " tpl=()\n",
        " print(type(tpl))"
      ]
    },
    {
      "cell_type": "code",
      "source": [
        "# List to tuple\n",
        "num=tuple([1,2,3])\n",
        "print(num)"
      ],
      "metadata": {
        "colab": {
          "base_uri": "https://localhost:8080/"
        },
        "id": "yUZ4mhYDh9w-",
        "outputId": "164ef8a4-62e3-4489-d70c-e6abafa702d0"
      },
      "execution_count": null,
      "outputs": [
        {
          "output_type": "stream",
          "name": "stdout",
          "text": [
            "(1, 2, 3)\n"
          ]
        }
      ]
    },
    {
      "cell_type": "code",
      "source": [
        "#Tuple to list\n",
        "num1=list((1,2,3))\n",
        "print(num1)"
      ],
      "metadata": {
        "colab": {
          "base_uri": "https://localhost:8080/"
        },
        "id": "1Niwdv1Eib4i",
        "outputId": "8cb0230b-b31c-4822-a083-0ddfbe9d64df"
      },
      "execution_count": null,
      "outputs": [
        {
          "output_type": "stream",
          "name": "stdout",
          "text": [
            "[1, 2, 3]\n"
          ]
        }
      ]
    },
    {
      "cell_type": "code",
      "source": [
        "#mixed tuple\n",
        "mix_tuple=(1,2,\"vibhaeo\",4.54,True)\n",
        "mix_tuple"
      ],
      "metadata": {
        "colab": {
          "base_uri": "https://localhost:8080/"
        },
        "id": "aFCfC6d1igBs",
        "outputId": "41cdbbad-1539-4112-b843-4e1292676c1f"
      },
      "execution_count": null,
      "outputs": [
        {
          "output_type": "execute_result",
          "data": {
            "text/plain": [
              "(1, 2, 'vibhaeo', 4.54, True)"
            ]
          },
          "metadata": {},
          "execution_count": 7
        }
      ]
    },
    {
      "cell_type": "code",
      "source": [
        "# Tuple operations\n",
        "\n",
        "concatenation_tuple=num+mix_tuple\n",
        "print(concatenation_tuple)"
      ],
      "metadata": {
        "colab": {
          "base_uri": "https://localhost:8080/"
        },
        "id": "96Yvv8JkiyPx",
        "outputId": "1a726b88-2b9e-4d33-d287-44e17c4a4674"
      },
      "execution_count": null,
      "outputs": [
        {
          "output_type": "stream",
          "name": "stdout",
          "text": [
            "(1, 2, 3, 1, 2, 'vibhaeo', 4.54, True)\n"
          ]
        }
      ]
    },
    {
      "cell_type": "code",
      "source": [
        "mix_tuple * 3"
      ],
      "metadata": {
        "colab": {
          "base_uri": "https://localhost:8080/"
        },
        "id": "Alou3kTQjjbF",
        "outputId": "e8aac41d-12f2-4090-fbe1-90c7e33dc16e"
      },
      "execution_count": null,
      "outputs": [
        {
          "output_type": "execute_result",
          "data": {
            "text/plain": [
              "(1,\n",
              " 2,\n",
              " 'vibhaeo',\n",
              " 4.54,\n",
              " True,\n",
              " 1,\n",
              " 2,\n",
              " 'vibhaeo',\n",
              " 4.54,\n",
              " True,\n",
              " 1,\n",
              " 2,\n",
              " 'vibhaeo',\n",
              " 4.54,\n",
              " True)"
            ]
          },
          "metadata": {},
          "execution_count": 9
        }
      ]
    },
    {
      "cell_type": "code",
      "source": [
        "num*3"
      ],
      "metadata": {
        "colab": {
          "base_uri": "https://localhost:8080/"
        },
        "id": "_u3FbxVDjtwu",
        "outputId": "6ee435d2-e114-4857-9f27-dc825165dc09"
      },
      "execution_count": null,
      "outputs": [
        {
          "output_type": "execute_result",
          "data": {
            "text/plain": [
              "(1, 2, 3, 1, 2, 3, 1, 2, 3)"
            ]
          },
          "metadata": {},
          "execution_count": 10
        }
      ]
    },
    {
      "cell_type": "code",
      "source": [
        " #Tuple methods\n",
        "print(concatenation_tuple.count(1))\n",
        "print(concatenation_tuple.index(1))\n"
      ],
      "metadata": {
        "colab": {
          "base_uri": "https://localhost:8080/"
        },
        "id": "kjkD_EjNj2XX",
        "outputId": "f60da321-74c5-49a3-d928-15bb9a7d913c"
      },
      "execution_count": null,
      "outputs": [
        {
          "output_type": "stream",
          "name": "stdout",
          "text": [
            "3\n",
            "0\n"
          ]
        }
      ]
    },
    {
      "cell_type": "markdown",
      "source": [
        "Packing and unpacking\n"
      ],
      "metadata": {
        "id": "PMvgYTPioFxE"
      }
    },
    {
      "cell_type": "code",
      "source": [
        "#Packing\n",
        "packed_tuple=1,\"Vibhaeo\",True\n",
        "print(packed_tuple)"
      ],
      "metadata": {
        "colab": {
          "base_uri": "https://localhost:8080/"
        },
        "id": "Ljuvv23voFiW",
        "outputId": "0960d733-3140-4407-e09d-e8f469401ea8"
      },
      "execution_count": null,
      "outputs": [
        {
          "output_type": "stream",
          "name": "stdout",
          "text": [
            "(1, 'Vibhaeo', True)\n"
          ]
        }
      ]
    },
    {
      "cell_type": "code",
      "source": [
        "#We have unpacked the ele\n",
        "a,b,c=packed_tuple\n",
        "print(a)\n",
        "print(b)\n",
        "print(c)"
      ],
      "metadata": {
        "colab": {
          "base_uri": "https://localhost:8080/"
        },
        "id": "R61wo44vj3v9",
        "outputId": "5283698c-4429-42e5-f857-44b08f58fb48"
      },
      "execution_count": null,
      "outputs": [
        {
          "output_type": "stream",
          "name": "stdout",
          "text": [
            "1\n",
            "Vibhaeo\n",
            "True\n"
          ]
        }
      ]
    },
    {
      "cell_type": "code",
      "source": [
        "#Unpacking with *\n",
        "num=(1,2,3,4,5,6)\n",
        "first,*middle,last=num\n",
        "print(first)\n",
        "print(middle)\n",
        "print(last)"
      ],
      "metadata": {
        "colab": {
          "base_uri": "https://localhost:8080/"
        },
        "id": "CmJT7l8Qowv8",
        "outputId": "ab87c2cc-2893-459a-c7d2-335140dc0742"
      },
      "execution_count": null,
      "outputs": [
        {
          "output_type": "stream",
          "name": "stdout",
          "text": [
            "1\n",
            "[2, 3, 4, 5]\n",
            "6\n"
          ]
        }
      ]
    },
    {
      "cell_type": "code",
      "source": [
        "#Nested tuples\n",
        "tpl=((1,2,3,4),(\"hello\",4.5,True))\n",
        "tpl[1][0]"
      ],
      "metadata": {
        "colab": {
          "base_uri": "https://localhost:8080/",
          "height": 35
        },
        "id": "YHeB2nWmp_SS",
        "outputId": "5dc0e20e-ec81-4da2-8e9b-2baa88ba6a2e"
      },
      "execution_count": null,
      "outputs": [
        {
          "output_type": "execute_result",
          "data": {
            "text/plain": [
              "'hello'"
            ],
            "application/vnd.google.colaboratory.intrinsic+json": {
              "type": "string"
            }
          },
          "metadata": {},
          "execution_count": 20
        }
      ]
    },
    {
      "cell_type": "code",
      "source": [
        "#iterating over nested tuple\n",
        "for i in tpl:\n",
        "  for j in i:\n",
        "    print(j, end=\" \")"
      ],
      "metadata": {
        "colab": {
          "base_uri": "https://localhost:8080/"
        },
        "id": "UYs55EjMqsDb",
        "outputId": "dc39515d-918e-4b32-e4c1-3b693cfab7ce"
      },
      "execution_count": null,
      "outputs": [
        {
          "output_type": "stream",
          "name": "stdout",
          "text": [
            "1 2 3 4 hello 4.5 True "
          ]
        }
      ]
    },
    {
      "cell_type": "code",
      "source": [],
      "metadata": {
        "id": "l2PWlr9TrE1X"
      },
      "execution_count": null,
      "outputs": []
    }
  ]
}