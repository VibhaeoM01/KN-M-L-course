{
  "nbformat": 4,
  "nbformat_minor": 0,
  "metadata": {
    "colab": {
      "provenance": [],
      "authorship_tag": "ABX9TyPgzOjWwhgW9bc+J3LjvCzu",
      "include_colab_link": true
    },
    "kernelspec": {
      "name": "python3",
      "display_name": "Python 3"
    },
    "language_info": {
      "name": "python"
    }
  },
  "cells": [
    {
      "cell_type": "markdown",
      "metadata": {
        "id": "view-in-github",
        "colab_type": "text"
      },
      "source": [
        "<a href=\"https://colab.research.google.com/github/VibhaeoM01/KN-M-L-course/blob/main/function.ipynb\" target=\"_parent\"><img src=\"https://colab.research.google.com/assets/colab-badge.svg\" alt=\"Open In Colab\"/></a>"
      ]
    },
    {
      "cell_type": "markdown",
      "source": [
        "Function"
      ],
      "metadata": {
        "id": "obGcRccG8JGJ"
      }
    },
    {
      "cell_type": "code",
      "execution_count": null,
      "metadata": {
        "id": "oW68gtWs0dpF"
      },
      "outputs": [],
      "source": [
        "def add(a,b):\n",
        "  return a+b"
      ]
    },
    {
      "cell_type": "code",
      "source": [
        "add(2,3)"
      ],
      "metadata": {
        "colab": {
          "base_uri": "https://localhost:8080/"
        },
        "id": "mvecMwTP0qhb",
        "outputId": "f4340cf8-fc68-4b3b-bb62-da557e4a415c"
      },
      "execution_count": null,
      "outputs": [
        {
          "output_type": "execute_result",
          "data": {
            "text/plain": [
              "5"
            ]
          },
          "metadata": {},
          "execution_count": 28
        }
      ]
    },
    {
      "cell_type": "code",
      "source": [
        "def num(a):\n",
        "  result=[]\n",
        "  for i in range(a):\n",
        "    result.append(i)\n",
        "  return result\n"
      ],
      "metadata": {
        "id": "Fc4aiNL70u1j"
      },
      "execution_count": null,
      "outputs": []
    },
    {
      "cell_type": "code",
      "source": [
        "print(num(5))"
      ],
      "metadata": {
        "colab": {
          "base_uri": "https://localhost:8080/"
        },
        "id": "VYLmUGyK0zfr",
        "outputId": "7bf224e9-e95f-4445-98b9-d63220f4ff9d"
      },
      "execution_count": null,
      "outputs": [
        {
          "output_type": "stream",
          "name": "stdout",
          "text": [
            "[0, 1, 2, 3, 4]\n"
          ]
        }
      ]
    },
    {
      "cell_type": "markdown",
      "source": [
        "#Example of Functions"
      ],
      "metadata": {
        "id": "EP1NtC0LS3YT"
      }
    },
    {
      "cell_type": "markdown",
      "source": [
        "Temperature Conversion"
      ],
      "metadata": {
        "id": "8jYyvBdIS_JF"
      }
    },
    {
      "cell_type": "code",
      "source": [
        "def temp(v,unit):\n",
        "  if unit == \"C\":\n",
        "    return (9/5)*v + 32\n",
        "\n",
        "\n",
        "  elif unit == \"F\":\n",
        "    return 5/9*(v - 32)\n",
        "\n",
        "\n",
        "\n"
      ],
      "metadata": {
        "id": "0sKCzGFwS2Vz"
      },
      "execution_count": null,
      "outputs": []
    },
    {
      "cell_type": "code",
      "source": [
        "temp(56,'C')"
      ],
      "metadata": {
        "colab": {
          "base_uri": "https://localhost:8080/"
        },
        "id": "BD-Y7WtoUwvb",
        "outputId": "f88fe5ac-3a7e-44fa-ad8a-506791343928"
      },
      "execution_count": null,
      "outputs": [
        {
          "output_type": "execute_result",
          "data": {
            "text/plain": [
              "132.8"
            ]
          },
          "metadata": {},
          "execution_count": 32
        }
      ]
    },
    {
      "cell_type": "markdown",
      "source": [
        "PW strength checker"
      ],
      "metadata": {
        "id": "NnbtPc1oTV_i"
      }
    },
    {
      "cell_type": "code",
      "source": [
        "def pw(password):\n",
        "  if(len(password)<8):\n",
        "    return False\n",
        "  if not any(char.isdigit() for char in password):\n",
        "    return False\n",
        "  if not any(char.islower() for char in password):\n",
        "    return False\n",
        "  if not any(char.isupper() for char in password):\n",
        "    return False\n",
        "  if not any(char in '!@#$%^&*()_+' for char in password):\n",
        "    return False\n",
        "  return True"
      ],
      "metadata": {
        "id": "yRHtNmyecbE4"
      },
      "execution_count": null,
      "outputs": []
    },
    {
      "cell_type": "code",
      "source": [
        "print(pw('VibhaeoMudia@7410'))\n",
        "print(pw('Vibhaeo'))"
      ],
      "metadata": {
        "colab": {
          "base_uri": "https://localhost:8080/"
        },
        "id": "yn7bqosvg99_",
        "outputId": "c76b57c0-3b82-4a59-9967-ad68d33d785f"
      },
      "execution_count": null,
      "outputs": [
        {
          "output_type": "stream",
          "name": "stdout",
          "text": [
            "True\n",
            "False\n"
          ]
        }
      ]
    },
    {
      "cell_type": "markdown",
      "source": [
        "Calculate the Total cost of items in shopping cart"
      ],
      "metadata": {
        "id": "JpmxlEfZhrjg"
      }
    },
    {
      "cell_type": "code",
      "source": [
        "def total_cost(cart):\n",
        "  total=0\n",
        "  for i in cart:\n",
        "    total+=i['price'] * i['quantity']\n",
        "  return total\n",
        "\n",
        "\n",
        "\n",
        "\n",
        "\n",
        "cart=[\n",
        "    {'name':'Apple','price':0.5,'quantity':4},\n",
        "    {'name':'Oranges','price':0.3,'quantity':7},\n",
        "    {'name':'Banana','price':0.8,'quantity':2}\n",
        "\n",
        "]\n"
      ],
      "metadata": {
        "id": "9psdcye9h2CY"
      },
      "execution_count": null,
      "outputs": []
    },
    {
      "cell_type": "code",
      "source": [
        "total_cost(cart)"
      ],
      "metadata": {
        "colab": {
          "base_uri": "https://localhost:8080/"
        },
        "id": "haszGGzajOZA",
        "outputId": "1a1251ae-2b66-4603-e818-d18f66978c2f"
      },
      "execution_count": null,
      "outputs": [
        {
          "output_type": "execute_result",
          "data": {
            "text/plain": [
              "5.699999999999999"
            ]
          },
          "metadata": {},
          "execution_count": 36
        }
      ]
    },
    {
      "cell_type": "code",
      "source": [],
      "metadata": {
        "id": "2yJB5VN6mDn0"
      },
      "execution_count": null,
      "outputs": []
    },
    {
      "cell_type": "markdown",
      "source": [
        "Lamba Function\n"
      ],
      "metadata": {
        "id": "bAQt91Mn8N4M"
      }
    },
    {
      "cell_type": "code",
      "source": [
        "addition=lambda a,b:a+b"
      ],
      "metadata": {
        "id": "xD7bx02E3bAO"
      },
      "execution_count": null,
      "outputs": []
    },
    {
      "cell_type": "code",
      "source": [
        "addition(2,3)"
      ],
      "metadata": {
        "colab": {
          "base_uri": "https://localhost:8080/"
        },
        "id": "OgwhzYL98UG2",
        "outputId": "381dbf33-ce38-4709-eac3-ab403a496898"
      },
      "execution_count": null,
      "outputs": [
        {
          "output_type": "execute_result",
          "data": {
            "text/plain": [
              "5"
            ]
          },
          "metadata": {},
          "execution_count": 38
        }
      ]
    },
    {
      "cell_type": "markdown",
      "source": [
        "Check If the string is palindrome"
      ],
      "metadata": {
        "id": "WQvPkTkxmH-1"
      }
    },
    {
      "cell_type": "code",
      "source": [
        "def palindrome(str):\n",
        "\n",
        "  str=str.lower().replace(\" \",\"\")\n",
        "#  if(len(str)%2==0):\n",
        "  if str==str[::-1]:\n",
        "      return True\n",
        "  else:\n",
        "      return False"
      ],
      "metadata": {
        "id": "Zp3287y28Z8S"
      },
      "execution_count": null,
      "outputs": []
    },
    {
      "cell_type": "code",
      "source": [
        "palindrome(\"nayan\")"
      ],
      "metadata": {
        "colab": {
          "base_uri": "https://localhost:8080/"
        },
        "id": "H6GsT6Dom6dW",
        "outputId": "503c21e2-1cf3-4bd5-e8a9-873d1baa6c71"
      },
      "execution_count": null,
      "outputs": [
        {
          "output_type": "execute_result",
          "data": {
            "text/plain": [
              "True"
            ]
          },
          "metadata": {},
          "execution_count": 50
        }
      ]
    },
    {
      "cell_type": "code",
      "source": [
        "palindrome(\"A man a plan a canal Panama\")"
      ],
      "metadata": {
        "colab": {
          "base_uri": "https://localhost:8080/"
        },
        "id": "EjR4fmsTnAvQ",
        "outputId": "32dfe87a-b85e-40c0-fa58-1cd462abf519"
      },
      "execution_count": null,
      "outputs": [
        {
          "output_type": "execute_result",
          "data": {
            "text/plain": [
              "True"
            ]
          },
          "metadata": {},
          "execution_count": 51
        }
      ]
    },
    {
      "cell_type": "markdown",
      "source": [
        "Factorial using recursion"
      ],
      "metadata": {
        "id": "HCSN94ihpKph"
      }
    },
    {
      "cell_type": "code",
      "source": [
        "def fact(n):\n",
        "  if n==0:\n",
        "    return 1\n",
        "  else:\n",
        "    return n * fact(n-1)"
      ],
      "metadata": {
        "id": "4J2zy2eiocX8"
      },
      "execution_count": null,
      "outputs": []
    },
    {
      "cell_type": "code",
      "source": [
        "print(fact(0))\n",
        "print(fact(5))"
      ],
      "metadata": {
        "colab": {
          "base_uri": "https://localhost:8080/"
        },
        "id": "NygyUMhFpg3d",
        "outputId": "8eef46d2-dbaf-40e3-a1a5-97b828a53700"
      },
      "execution_count": null,
      "outputs": [
        {
          "output_type": "stream",
          "name": "stdout",
          "text": [
            "1\n",
            "120\n"
          ]
        }
      ]
    },
    {
      "cell_type": "markdown",
      "source": [
        "A function to read file and count freq of word\n"
      ],
      "metadata": {
        "id": "zofDMR7bqF6-"
      }
    },
    {
      "cell_type": "code",
      "source": [
        "def count_word_freq(file_path):\n",
        "  word_count={}\n",
        "  with open(file_path,'r') as file:\n",
        "    for line in file:\n",
        "      words=line.split()\n",
        "      for words in word:\n",
        "        word=word.lower().strip('.,!?;:'\"\\')\n",
        "        word_count[word]=word_count.get(word,0)+1\n",
        "  return word_count\n",
        "\n",
        "\n",
        "filepath='sample.txt'\n",
        "word_freq=count_word_freq(filepath)\n",
        "print(word_freq)"
      ],
      "metadata": {
        "id": "IrXrYm98p_lS",
        "colab": {
          "base_uri": "https://localhost:8080/",
          "height": 110
        },
        "outputId": "245295b2-d860-44ed-bac5-f4650d439512"
      },
      "execution_count": null,
      "outputs": [
        {
          "output_type": "error",
          "ename": "SyntaxError",
          "evalue": "unterminated string literal (detected at line 7) (<ipython-input-2-6c70557177e0>, line 7)",
          "traceback": [
            "\u001b[0;36m  File \u001b[0;32m\"<ipython-input-2-6c70557177e0>\"\u001b[0;36m, line \u001b[0;32m7\u001b[0m\n\u001b[0;31m    word=word.lower().strip('.,!?;:'\"\\')\u001b[0m\n\u001b[0m                                    ^\u001b[0m\n\u001b[0;31mSyntaxError\u001b[0m\u001b[0;31m:\u001b[0m unterminated string literal (detected at line 7)\n"
          ]
        }
      ]
    },
    {
      "cell_type": "markdown",
      "source": [
        "Validate Email Address"
      ],
      "metadata": {
        "id": "3ys7zHxisCxo"
      }
    },
    {
      "cell_type": "code",
      "source": [
        "import re\n",
        "\n",
        "def val_email(email):\n",
        "  pattern=r'^[a-zA-Z0-9_.+-]+@[a-zA-Z0-9-]+\\."
      ],
      "metadata": {
        "id": "hvbrPLHcqhVW"
      },
      "execution_count": null,
      "outputs": []
    },
    {
      "cell_type": "markdown",
      "source": [
        "##MAP FUNCTION"
      ],
      "metadata": {
        "id": "uvtx20oBs0Zs"
      }
    },
    {
      "cell_type": "code",
      "source": [
        "def sq(x):\n",
        "  return x*x\n",
        "\n",
        "sq(10)"
      ],
      "metadata": {
        "colab": {
          "base_uri": "https://localhost:8080/"
        },
        "id": "zlKnqeE_s2z3",
        "outputId": "69867831-de02-40d5-fd18-d03cec4c0e70"
      },
      "execution_count": null,
      "outputs": [
        {
          "output_type": "execute_result",
          "data": {
            "text/plain": [
              "100"
            ]
          },
          "metadata": {},
          "execution_count": 3
        }
      ]
    },
    {
      "cell_type": "code",
      "source": [
        "num=[1,2,3,4,5,6]\n",
        "\n",
        "list(map(sq,num))"
      ],
      "metadata": {
        "colab": {
          "base_uri": "https://localhost:8080/"
        },
        "id": "OHO1Tn4mtBLW",
        "outputId": "62d7375c-2a16-4f46-8ff9-dee44dab4331"
      },
      "execution_count": null,
      "outputs": [
        {
          "output_type": "execute_result",
          "data": {
            "text/plain": [
              "[1, 4, 9, 16, 25, 36]"
            ]
          },
          "metadata": {},
          "execution_count": 7
        }
      ]
    },
    {
      "cell_type": "code",
      "source": [
        "##Lambda fn with map\n",
        "numbers=[1,2,3,4,5,6,7,8]\n",
        "list(map(lambda x:x*x,num))"
      ],
      "metadata": {
        "colab": {
          "base_uri": "https://localhost:8080/"
        },
        "id": "RdIE9bK-tQ19",
        "outputId": "97419a90-c549-42ba-c4c4-22163ac05dae"
      },
      "execution_count": null,
      "outputs": [
        {
          "output_type": "execute_result",
          "data": {
            "text/plain": [
              "[1, 4, 9, 16, 25, 36]"
            ]
          },
          "metadata": {},
          "execution_count": 8
        }
      ]
    },
    {
      "cell_type": "code",
      "source": [
        "#MAP mult iterables\n",
        "\n",
        "num1=[1,2,3]\n",
        "num2=[4,5,6]\n",
        "\n",
        "added_num=list(map(lambda x,y:x+y,num1,num2))"
      ],
      "metadata": {
        "id": "CdZLT28LtqAk"
      },
      "execution_count": null,
      "outputs": []
    },
    {
      "cell_type": "code",
      "source": [
        "added_num"
      ],
      "metadata": {
        "colab": {
          "base_uri": "https://localhost:8080/"
        },
        "id": "9U0Dvj2-t7My",
        "outputId": "892cec1e-e7fa-40a3-f08a-e6a0fa4208f9"
      },
      "execution_count": null,
      "outputs": [
        {
          "output_type": "execute_result",
          "data": {
            "text/plain": [
              "[5, 7, 9]"
            ]
          },
          "metadata": {},
          "execution_count": 10
        }
      ]
    },
    {
      "cell_type": "code",
      "source": [
        "#MAP to convert a list of string to integers\n",
        "\n",
        "str_num = ['1','2','3','4']\n",
        "int_num=list(map(int,str_num)) # typecasting\n",
        "\n",
        "print(int_num)"
      ],
      "metadata": {
        "colab": {
          "base_uri": "https://localhost:8080/"
        },
        "id": "V5gBTSwJt-r7",
        "outputId": "c594de9e-af32-4a2c-996e-6931930e8c61"
      },
      "execution_count": null,
      "outputs": [
        {
          "output_type": "stream",
          "name": "stdout",
          "text": [
            "[1, 2, 3, 4]\n"
          ]
        }
      ]
    },
    {
      "cell_type": "code",
      "source": [
        "words=['apple','banana','cherry']\n",
        "upper_word=list(map(str.upper,words))\n",
        "print(upper_word)"
      ],
      "metadata": {
        "colab": {
          "base_uri": "https://localhost:8080/"
        },
        "id": "U8v1pwinuVz5",
        "outputId": "f4b96c43-9717-4009-d745-30ee8e0e5c44"
      },
      "execution_count": null,
      "outputs": [
        {
          "output_type": "stream",
          "name": "stdout",
          "text": [
            "['APPLE', 'BANANA', 'CHERRY']\n"
          ]
        }
      ]
    },
    {
      "cell_type": "code",
      "source": [
        "def get_name(person):\n",
        "  return person['name']\n",
        "\n",
        "people=[\n",
        "    {'name' : 'krish','age':32},\n",
        "    {'name' : 'Jack','age':33}\n",
        "]\n",
        "\n",
        "list(map(get_name,people))"
      ],
      "metadata": {
        "colab": {
          "base_uri": "https://localhost:8080/"
        },
        "id": "e0qULaeEu0eC",
        "outputId": "f825d717-b428-44b5-bd27-4da201084914"
      },
      "execution_count": null,
      "outputs": [
        {
          "output_type": "execute_result",
          "data": {
            "text/plain": [
              "['krish', 'Jack']"
            ]
          },
          "metadata": {},
          "execution_count": 15
        }
      ]
    },
    {
      "cell_type": "markdown",
      "source": [
        "# Filter Function"
      ],
      "metadata": {
        "id": "fzc0EqJ_wdlQ"
      }
    },
    {
      "cell_type": "code",
      "source": [
        "def even(num):\n",
        "  if num%2 == 0:\n",
        "    return True\n",
        "\n",
        "even(24)"
      ],
      "metadata": {
        "colab": {
          "base_uri": "https://localhost:8080/"
        },
        "id": "WXWn0wzVv2CW",
        "outputId": "6f1e1aa9-34c9-4e82-99c6-66cd55b15abb"
      },
      "execution_count": null,
      "outputs": [
        {
          "output_type": "execute_result",
          "data": {
            "text/plain": [
              "True"
            ]
          },
          "metadata": {},
          "execution_count": 23
        }
      ]
    },
    {
      "cell_type": "code",
      "source": [
        "def even(num):\n",
        "    return num % 2 == 0  # Explicitly return True or False\n",
        "\n",
        "lst = [1, 2, 3, 4, 5, 6, 7, 8, 9]\n",
        "\n",
        "# Make sure there's no variable named 'list' in your environment\n",
        "filtered_lst = list(filter(even, lst))\n",
        "print(filtered_lst)\n"
      ],
      "metadata": {
        "colab": {
          "base_uri": "https://localhost:8080/",
          "height": 200
        },
        "id": "3PrUV5A6xX2X",
        "outputId": "5fc9e454-6bf0-4e9f-934c-ab63b79e389a"
      },
      "execution_count": null,
      "outputs": [
        {
          "output_type": "error",
          "ename": "TypeError",
          "evalue": "'list' object is not callable",
          "traceback": [
            "\u001b[0;31m---------------------------------------------------------------------------\u001b[0m",
            "\u001b[0;31mTypeError\u001b[0m                                 Traceback (most recent call last)",
            "\u001b[0;32m<ipython-input-25-1bd93e2ca280>\u001b[0m in \u001b[0;36m<cell line: 7>\u001b[0;34m()\u001b[0m\n\u001b[1;32m      5\u001b[0m \u001b[0;34m\u001b[0m\u001b[0m\n\u001b[1;32m      6\u001b[0m \u001b[0;31m# Make sure there's no variable named 'list' in your environment\u001b[0m\u001b[0;34m\u001b[0m\u001b[0;34m\u001b[0m\u001b[0m\n\u001b[0;32m----> 7\u001b[0;31m \u001b[0mfiltered_lst\u001b[0m \u001b[0;34m=\u001b[0m \u001b[0mlist\u001b[0m\u001b[0;34m(\u001b[0m\u001b[0mfilter\u001b[0m\u001b[0;34m(\u001b[0m\u001b[0meven\u001b[0m\u001b[0;34m,\u001b[0m \u001b[0mlst\u001b[0m\u001b[0;34m)\u001b[0m\u001b[0;34m)\u001b[0m\u001b[0;34m\u001b[0m\u001b[0;34m\u001b[0m\u001b[0m\n\u001b[0m\u001b[1;32m      8\u001b[0m \u001b[0mprint\u001b[0m\u001b[0;34m(\u001b[0m\u001b[0mfiltered_lst\u001b[0m\u001b[0;34m)\u001b[0m\u001b[0;34m\u001b[0m\u001b[0;34m\u001b[0m\u001b[0m\n",
            "\u001b[0;31mTypeError\u001b[0m: 'list' object is not callable"
          ]
        }
      ]
    },
    {
      "cell_type": "code",
      "source": [
        "number=[1,2,3,4,5,6]\n",
        "\n",
        "greater_than_5=list(filter(lambda x:x>5,number))\n",
        "print(greater_than_5)"
      ],
      "metadata": {
        "id": "pHMtIszUxn9V",
        "colab": {
          "base_uri": "https://localhost:8080/",
          "height": 200
        },
        "outputId": "cdd4df97-960b-4f5b-86fa-5961e03300fc"
      },
      "execution_count": null,
      "outputs": [
        {
          "output_type": "error",
          "ename": "TypeError",
          "evalue": "'list' object is not callable",
          "traceback": [
            "\u001b[0;31m---------------------------------------------------------------------------\u001b[0m",
            "\u001b[0;31mTypeError\u001b[0m                                 Traceback (most recent call last)",
            "\u001b[0;32m<ipython-input-26-1e361ca13108>\u001b[0m in \u001b[0;36m<cell line: 3>\u001b[0;34m()\u001b[0m\n\u001b[1;32m      1\u001b[0m \u001b[0mnumber\u001b[0m\u001b[0;34m=\u001b[0m\u001b[0;34m[\u001b[0m\u001b[0;36m1\u001b[0m\u001b[0;34m,\u001b[0m\u001b[0;36m2\u001b[0m\u001b[0;34m,\u001b[0m\u001b[0;36m3\u001b[0m\u001b[0;34m,\u001b[0m\u001b[0;36m4\u001b[0m\u001b[0;34m,\u001b[0m\u001b[0;36m5\u001b[0m\u001b[0;34m,\u001b[0m\u001b[0;36m6\u001b[0m\u001b[0;34m]\u001b[0m\u001b[0;34m\u001b[0m\u001b[0;34m\u001b[0m\u001b[0m\n\u001b[1;32m      2\u001b[0m \u001b[0;34m\u001b[0m\u001b[0m\n\u001b[0;32m----> 3\u001b[0;31m \u001b[0mgreater_than_5\u001b[0m\u001b[0;34m=\u001b[0m\u001b[0mlist\u001b[0m\u001b[0;34m(\u001b[0m\u001b[0mfilter\u001b[0m\u001b[0;34m(\u001b[0m\u001b[0;32mlambda\u001b[0m \u001b[0mx\u001b[0m\u001b[0;34m:\u001b[0m\u001b[0mx\u001b[0m\u001b[0;34m>\u001b[0m\u001b[0;36m5\u001b[0m\u001b[0;34m,\u001b[0m\u001b[0mnumber\u001b[0m\u001b[0;34m)\u001b[0m\u001b[0;34m)\u001b[0m\u001b[0;34m\u001b[0m\u001b[0;34m\u001b[0m\u001b[0m\n\u001b[0m\u001b[1;32m      4\u001b[0m \u001b[0mprint\u001b[0m\u001b[0;34m(\u001b[0m\u001b[0mgreater_than_5\u001b[0m\u001b[0;34m)\u001b[0m\u001b[0;34m\u001b[0m\u001b[0;34m\u001b[0m\u001b[0m\n",
            "\u001b[0;31mTypeError\u001b[0m: 'list' object is not callable"
          ]
        }
      ]
    },
    {
      "cell_type": "code",
      "source": [],
      "metadata": {
        "id": "9x9VK7R8zRsS"
      },
      "execution_count": null,
      "outputs": []
    }
  ]
}