{
  "nbformat": 4,
  "nbformat_minor": 0,
  "metadata": {
    "colab": {
      "provenance": [],
      "authorship_tag": "ABX9TyO4gO0lQ5rE0LKmn+TzRZRx",
      "include_colab_link": true
    },
    "kernelspec": {
      "name": "python3",
      "display_name": "Python 3"
    },
    "language_info": {
      "name": "python"
    }
  },
  "cells": [
    {
      "cell_type": "markdown",
      "metadata": {
        "id": "view-in-github",
        "colab_type": "text"
      },
      "source": [
        "<a href=\"https://colab.research.google.com/github/VibhaeoM01/KN-M-L-course/blob/main/List.ipynb\" target=\"_parent\"><img src=\"https://colab.research.google.com/assets/colab-badge.svg\" alt=\"Open In Colab\"/></a>"
      ]
    },
    {
      "cell_type": "code",
      "execution_count": 20,
      "metadata": {
        "colab": {
          "base_uri": "https://localhost:8080/"
        },
        "id": "QbWFen1NMKQl",
        "outputId": "439ec005-03f2-46c4-bcc6-1e677a2e1c27"
      },
      "outputs": [
        {
          "output_type": "stream",
          "name": "stdout",
          "text": [
            "['vm', 'Vibhaeo', 1, 2, 3]\n"
          ]
        }
      ],
      "source": [
        "lst=[\"vm\",\"Vibhaeo\",1,2,3]\n",
        "print(lst)"
      ]
    },
    {
      "cell_type": "code",
      "source": [
        "#accessing list\n",
        "print(lst[0])\n",
        "print(lst[2])\n",
        "print(lst[4])\n",
        "print(lst[-1])"
      ],
      "metadata": {
        "colab": {
          "base_uri": "https://localhost:8080/"
        },
        "id": "s8UE7KLEMW_Q",
        "outputId": "ab2e501f-51b2-4fba-b919-0eda1b7dd825"
      },
      "execution_count": 21,
      "outputs": [
        {
          "output_type": "stream",
          "name": "stdout",
          "text": [
            "vm\n",
            "1\n",
            "3\n",
            "3\n"
          ]
        }
      ]
    },
    {
      "cell_type": "code",
      "source": [
        "#slicing\n",
        "print(lst[1:])\n",
        "print(lst[1:3])\n",
        "\n",
        "\n",
        "\n",
        ""
      ],
      "metadata": {
        "colab": {
          "base_uri": "https://localhost:8080/"
        },
        "id": "YPZIXQoINoyP",
        "outputId": "3aecc660-c295-4cca-9bff-51189ff35291"
      },
      "execution_count": 22,
      "outputs": [
        {
          "output_type": "stream",
          "name": "stdout",
          "text": [
            "['Vibhaeo', 1, 2, 3]\n",
            "['Vibhaeo', 1]\n"
          ]
        }
      ]
    },
    {
      "cell_type": "code",
      "source": [
        "#modifying list\n",
        "print(lst)\n",
        "lst[1]=0\n",
        "print(lst)"
      ],
      "metadata": {
        "colab": {
          "base_uri": "https://localhost:8080/"
        },
        "id": "VNV9xwOqN4aH",
        "outputId": "8381f8e3-dde3-4e1d-e319-e7ae178d01ff"
      },
      "execution_count": 23,
      "outputs": [
        {
          "output_type": "stream",
          "name": "stdout",
          "text": [
            "['vm', 'Vibhaeo', 1, 2, 3]\n",
            "['vm', 0, 1, 2, 3]\n"
          ]
        }
      ]
    },
    {
      "cell_type": "markdown",
      "source": [
        "##list methods"
      ],
      "metadata": {
        "id": "xUWbe1BKPwd7"
      }
    },
    {
      "cell_type": "code",
      "source": [
        "#append\n",
        "lst.append(\"Mudia\")\n",
        "print(lst)"
      ],
      "metadata": {
        "colab": {
          "base_uri": "https://localhost:8080/"
        },
        "id": "CzMlQLa8OZjX",
        "outputId": "c8c6d7fd-aa9f-422a-cc94-72535223399a"
      },
      "execution_count": 24,
      "outputs": [
        {
          "output_type": "stream",
          "name": "stdout",
          "text": [
            "['vm', 0, 1, 2, 3, 'Mudia']\n"
          ]
        }
      ]
    },
    {
      "cell_type": "code",
      "source": [
        "#insert\n",
        "lst.insert(1,\"Manoj\")\n",
        "print(lst)"
      ],
      "metadata": {
        "colab": {
          "base_uri": "https://localhost:8080/"
        },
        "id": "2rB8Q3IsPLs2",
        "outputId": "1d487605-2ad1-4f46-b780-fc6b32ad28ed"
      },
      "execution_count": 25,
      "outputs": [
        {
          "output_type": "stream",
          "name": "stdout",
          "text": [
            "['vm', 'Manoj', 0, 1, 2, 3, 'Mudia']\n"
          ]
        }
      ]
    },
    {
      "cell_type": "code",
      "source": [
        "#remove\n",
        "\n",
        "lst.remove(\"Mudia\")\n",
        "print(lst)"
      ],
      "metadata": {
        "id": "Iw53mKeHP5Ds"
      },
      "execution_count": 26,
      "outputs": []
    },
    {
      "cell_type": "code",
      "source": [
        "#removing last  (popping the list)\n",
        "Popped_list=lst.pop()\n",
        "print(Popped_list)"
      ],
      "metadata": {
        "colab": {
          "base_uri": "https://localhost:8080/"
        },
        "id": "urkwP8MgQGzo",
        "outputId": "555a3ac4-c421-46c5-ec83-ef196a1701b4"
      },
      "execution_count": 28,
      "outputs": [
        {
          "output_type": "stream",
          "name": "stdout",
          "text": [
            "3\n"
          ]
        }
      ]
    },
    {
      "cell_type": "code",
      "source": [
        "#get index\n",
        "lst.index(\"Manoj\")"
      ],
      "metadata": {
        "colab": {
          "base_uri": "https://localhost:8080/"
        },
        "id": "37Ks28gJQjg8",
        "outputId": "f828df2e-4ae4-452a-ad05-50ef6c13d248"
      },
      "execution_count": 33,
      "outputs": [
        {
          "output_type": "execute_result",
          "data": {
            "text/plain": [
              "1"
            ]
          },
          "metadata": {},
          "execution_count": 33
        }
      ]
    },
    {
      "cell_type": "code",
      "source": [
        "#count\n",
        "lst.insert(2,\"Manoj\")\n",
        "lst.count(\"Manoj\")"
      ],
      "metadata": {
        "colab": {
          "base_uri": "https://localhost:8080/"
        },
        "id": "5smoBZFOQxm_",
        "outputId": "64a79de7-3f70-4082-8c04-0fd0e6bcf14b"
      },
      "execution_count": 34,
      "outputs": [
        {
          "output_type": "execute_result",
          "data": {
            "text/plain": [
              "2"
            ]
          },
          "metadata": {},
          "execution_count": 34
        }
      ]
    },
    {
      "cell_type": "code",
      "source": [
        "#Reverse\n",
        "lst.reverse()"
      ],
      "metadata": {
        "id": "Tgk5dS-9RPoQ"
      },
      "execution_count": 36,
      "outputs": []
    },
    {
      "cell_type": "code",
      "source": [
        "lst"
      ],
      "metadata": {
        "colab": {
          "base_uri": "https://localhost:8080/"
        },
        "id": "4obQWvSvRUgk",
        "outputId": "99e76c77-c815-4663-e9dd-846a09f12dce"
      },
      "execution_count": 37,
      "outputs": [
        {
          "output_type": "execute_result",
          "data": {
            "text/plain": [
              "[2, 1, 0, 'vm', 'Manoj', 'Manoj']"
            ]
          },
          "metadata": {},
          "execution_count": 37
        }
      ]
    },
    {
      "cell_type": "code",
      "source": [
        "#Iterating in string with index\n",
        "for i,num in enumerate(lst):\n",
        "  print(i,num)"
      ],
      "metadata": {
        "colab": {
          "base_uri": "https://localhost:8080/"
        },
        "id": "JS-5S8wySFa5",
        "outputId": "d9ed97d5-d0d2-44b2-8d0e-5bb5c3cbc4b4"
      },
      "execution_count": 40,
      "outputs": [
        {
          "output_type": "stream",
          "name": "stdout",
          "text": [
            "0 2\n",
            "1 1\n",
            "2 0\n",
            "3 vm\n",
            "4 Manoj\n",
            "5 Manoj\n"
          ]
        }
      ]
    },
    {
      "cell_type": "code",
      "source": [
        "for num in lst:\n",
        "  print(num)"
      ],
      "metadata": {
        "colab": {
          "base_uri": "https://localhost:8080/"
        },
        "id": "_h_KLXXTTEez",
        "outputId": "83fac659-d471-49b5-eeba-6aea16269ed7"
      },
      "execution_count": 41,
      "outputs": [
        {
          "output_type": "stream",
          "name": "stdout",
          "text": [
            "2\n",
            "1\n",
            "0\n",
            "vm\n",
            "Manoj\n",
            "Manoj\n"
          ]
        }
      ]
    },
    {
      "cell_type": "markdown",
      "source": [
        "#List Comprehension\n",
        "\n",
        "Basic SYNTAX   [expression for item in iterable]\n",
        "\n",
        "with conditional logic   [expression for item in iterable if condition]\n",
        "\n",
        "Nested list comprehension [expression for item1 in iterable1 item2 in iterable2]"
      ],
      "metadata": {
        "id": "-ofYOJ3lTawh"
      }
    },
    {
      "cell_type": "code",
      "source": [
        "[x**2 for x in range(10)]"
      ],
      "metadata": {
        "colab": {
          "base_uri": "https://localhost:8080/"
        },
        "id": "WZDwEaNaTPFr",
        "outputId": "00c274c4-85c1-4ac3-eedb-161021387191"
      },
      "execution_count": 42,
      "outputs": [
        {
          "output_type": "execute_result",
          "data": {
            "text/plain": [
              "[0, 1, 4, 9, 16, 25, 36, 49, 64, 81]"
            ]
          },
          "metadata": {},
          "execution_count": 42
        }
      ]
    },
    {
      "cell_type": "code",
      "source": [
        "sq=[i**2 for i in range(10)]\n",
        "print(sq)"
      ],
      "metadata": {
        "colab": {
          "base_uri": "https://localhost:8080/"
        },
        "id": "B9ZypxaJT1aU",
        "outputId": "2cf30063-3906-4ac7-bad9-b902652d3e96"
      },
      "execution_count": 47,
      "outputs": [
        {
          "output_type": "stream",
          "name": "stdout",
          "text": [
            "[0, 1, 4, 9, 16, 25, 36, 49, 64, 81]\n"
          ]
        }
      ]
    },
    {
      "cell_type": "code",
      "source": [
        "#with conditional logic\n",
        "sq=[i for i in range(10) if i%2==0]\n",
        "print(sq)"
      ],
      "metadata": {
        "colab": {
          "base_uri": "https://localhost:8080/"
        },
        "id": "vH3iQee3UhTa",
        "outputId": "124fe21a-d2c7-4d0f-c4f0-aabf90a86741"
      },
      "execution_count": 50,
      "outputs": [
        {
          "output_type": "stream",
          "name": "stdout",
          "text": [
            "[0, 2, 4, 6, 8]\n"
          ]
        }
      ]
    },
    {
      "cell_type": "code",
      "source": [
        "#Nested list comprehension\n",
        "lst1=[1,2,3,4]\n",
        "lst2=['a','b','c','d']\n",
        "\n",
        "pair=[[i,j] for i in lst1 for j in lst2]\n",
        "print(pair)"
      ],
      "metadata": {
        "colab": {
          "base_uri": "https://localhost:8080/"
        },
        "id": "6kA1mKemUyVx",
        "outputId": "f489fa0f-ee6e-4302-d49c-ecaf2fba0aa9"
      },
      "execution_count": 54,
      "outputs": [
        {
          "output_type": "stream",
          "name": "stdout",
          "text": [
            "[[1, 'a'], [1, 'b'], [1, 'c'], [1, 'd'], [2, 'a'], [2, 'b'], [2, 'c'], [2, 'd'], [3, 'a'], [3, 'b'], [3, 'c'], [3, 'd'], [4, 'a'], [4, 'b'], [4, 'c'], [4, 'd']]\n"
          ]
        }
      ]
    },
    {
      "cell_type": "code",
      "source": [
        "#list comprehension with fn calls\n",
        "words=[\"hello\",\"Vibhaeo\",\"Mudia\",\"Manoj\"]\n",
        "lengths=[len(word) for word in words]\n",
        "print(lengths)"
      ],
      "metadata": {
        "colab": {
          "base_uri": "https://localhost:8080/"
        },
        "id": "VLjEx8hIVzXo",
        "outputId": "77d26bea-fa8c-4f7d-ef90-199ae10e9fd1"
      },
      "execution_count": 56,
      "outputs": [
        {
          "output_type": "stream",
          "name": "stdout",
          "text": [
            "[5, 7, 5, 5]\n"
          ]
        }
      ]
    },
    {
      "cell_type": "code",
      "source": [],
      "metadata": {
        "id": "CImTRhSEYg_H"
      },
      "execution_count": null,
      "outputs": []
    }
  ]
}