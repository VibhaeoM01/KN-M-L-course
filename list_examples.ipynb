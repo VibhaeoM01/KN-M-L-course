{
  "nbformat": 4,
  "nbformat_minor": 0,
  "metadata": {
    "colab": {
      "provenance": [],
      "authorship_tag": "ABX9TyNWp8r06hOtsKnNnOy+ZtzN",
      "include_colab_link": true
    },
    "kernelspec": {
      "name": "python3",
      "display_name": "Python 3"
    },
    "language_info": {
      "name": "python"
    }
  },
  "cells": [
    {
      "cell_type": "markdown",
      "metadata": {
        "id": "view-in-github",
        "colab_type": "text"
      },
      "source": [
        "<a href=\"https://colab.research.google.com/github/VibhaeoM01/KN-M-L-course/blob/main/list_examples.ipynb\" target=\"_parent\"><img src=\"https://colab.research.google.com/assets/colab-badge.svg\" alt=\"Open In Colab\"/></a>"
      ]
    },
    {
      "cell_type": "markdown",
      "source": [
        "##Create To Do list"
      ],
      "metadata": {
        "id": "pv9thggAkoNj"
      }
    },
    {
      "cell_type": "code",
      "source": [
        "to_do_list=[\"DSA\",\"Internship\",\"Exercise\"]\n",
        "\n",
        "to_do_list.append(\"ML course\")\n",
        "\n",
        "to_do_list.remove(\"DSA\")\n",
        "\n",
        "if \"DSA\" in to_do_list:\n",
        "  print(\"Solve atleast 2 que\")\n",
        "\n",
        "\n",
        "for i in to_do_list:\n",
        "  print(f\"-{i}\")"
      ],
      "metadata": {
        "colab": {
          "base_uri": "https://localhost:8080/"
        },
        "id": "VNCsY9gUkvat",
        "outputId": "5431485f-9f11-4039-8c71-86c9709e881a"
      },
      "execution_count": 5,
      "outputs": [
        {
          "output_type": "stream",
          "name": "stdout",
          "text": [
            "-Internship\n",
            "-Exercise\n",
            "-ML course\n"
          ]
        }
      ]
    },
    {
      "cell_type": "markdown",
      "source": [
        "##Manage Student Grades"
      ],
      "metadata": {
        "id": "loAxEMqllhHk"
      }
    },
    {
      "cell_type": "code",
      "source": [
        "grades=[23,56,65,85]\n",
        "\n",
        "grades.append(45)\n",
        "\n",
        "avg=sum(grades)/len(grades)\n",
        "print(f\"Avg Grade:{avg}\")\n",
        "highest=max(grades)\n",
        "lowest=min(grades)\n",
        "print(f\"Highest Grade:{highest}\")\n",
        "print(f\"lowest grade:{lowest}\")"
      ],
      "metadata": {
        "colab": {
          "base_uri": "https://localhost:8080/"
        },
        "id": "485WsZqukwzZ",
        "outputId": "fc5e1841-f556-4865-f7d1-288bcb7697f5"
      },
      "execution_count": 8,
      "outputs": [
        {
          "output_type": "stream",
          "name": "stdout",
          "text": [
            "Avg Grade:54.8\n",
            "Highest Grade:85\n",
            "lowest grade:23\n"
          ]
        }
      ]
    },
    {
      "cell_type": "markdown",
      "source": [
        "##Managing inventory"
      ],
      "metadata": {
        "id": "Zh7Afgs9mkr_"
      }
    },
    {
      "cell_type": "code",
      "source": [
        "inv=[\"apples\",\"bananas\",\"oranges\",\"strawberries\"]\n",
        "\n",
        "item=\"oranges\"\n",
        "if item in inv:\n",
        "  print(f\"{item} in stock\")\n",
        "else:\n",
        "  print(f\"{item} not in stock\")\n",
        "\n",
        "#printing inventory\n",
        "for i in inv:\n",
        "  print(f\"-{i}\")"
      ],
      "metadata": {
        "colab": {
          "base_uri": "https://localhost:8080/"
        },
        "id": "Xp9BSWbrlyOW",
        "outputId": "a67a0dbb-8999-46c9-8d0f-a88e9843e3b8"
      },
      "execution_count": 11,
      "outputs": [
        {
          "output_type": "stream",
          "name": "stdout",
          "text": [
            "oranges in stock\n",
            "-apples\n",
            "-bananas\n",
            "-oranges\n",
            "-strawberries\n"
          ]
        }
      ]
    },
    {
      "cell_type": "markdown",
      "source": [
        "##Feedback"
      ],
      "metadata": {
        "id": "xejCPcupnXUR"
      }
    },
    {
      "cell_type": "code",
      "source": [
        "feedbacks=[\"Great!\",\"loved it!\",\"best\",'Not happy']\n",
        "feedbacks.append(\"Bad taste\")\n",
        "\n",
        "feedback_count=sum(1 for comment in feedbacks if \"great\" in comment.lower() or \"excellent\" in comment.lower())\n",
        "print(f\"Positive feedback count: {feedback_count}\")\n",
        "\n",
        "for i in feedbacks:\n",
        "  print(f\"-{i}\")\n"
      ],
      "metadata": {
        "colab": {
          "base_uri": "https://localhost:8080/"
        },
        "id": "3LrtQRhNnBp6",
        "outputId": "b132d6a0-067a-4a47-965d-eb40dd53a754"
      },
      "execution_count": 13,
      "outputs": [
        {
          "output_type": "stream",
          "name": "stdout",
          "text": [
            "Positive feedback count: 1\n",
            "-Great!\n",
            "-loved it!\n",
            "-best\n",
            "-Not happy\n",
            "-Bad taste\n"
          ]
        }
      ]
    },
    {
      "cell_type": "code",
      "source": [],
      "metadata": {
        "id": "J3OUiz5zopzJ"
      },
      "execution_count": null,
      "outputs": []
    }
  ]
}